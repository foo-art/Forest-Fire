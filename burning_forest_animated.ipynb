{
 "cells": [
  {
   "cell_type": "code",
   "execution_count": 1,
   "id": "c5c810af",
   "metadata": {},
   "outputs": [],
   "source": [
    "import random \n",
    "import numpy as np\n",
    "import pandas as pd\n",
    "import matplotlib.pyplot as plt\n",
    "import matplotlib.animation as animation\n",
    "\n",
    "random.seed(10)"
   ]
  },
  {
   "cell_type": "markdown",
   "id": "4dddcd9c",
   "metadata": {},
   "source": [
    "# Animating Burning Forest Simulation "
   ]
  },
  {
   "cell_type": "markdown",
   "id": "d33ae717",
   "metadata": {},
   "source": [
    "### Part 1 : Forest Fire Algorithm"
   ]
  },
  {
   "cell_type": "markdown",
   "id": "ff2dfc46",
   "metadata": {},
   "source": [
    "1) Creating class ```forest``` to store random mapping of forest."
   ]
  },
  {
   "cell_type": "code",
   "execution_count": 2,
   "id": "a3abb58c",
   "metadata": {},
   "outputs": [],
   "source": [
    "class forest :\n",
    "    def __init__(self, n) :\n",
    "        N_sqrt = int(np.sqrt(n))\n",
    "        self.size = N_sqrt ** 2\n",
    "        self.nrow = N_sqrt\n",
    "        self.ncol = N_sqrt\n",
    "        self.map = np.array([])\n",
    "        \n",
    "    def generate_forest(self, prob) :\n",
    "        M = np.array([np.random.choice([0, 3], size=(self.ncol,), p=[1 - prob, prob])])\n",
    "        for i in range(self.nrow - 1) :\n",
    "            r = np.array([np.random.choice([0, 3], size=(self.ncol,), p=[1 - prob, prob])])\n",
    "            M = np.concatenate((M, r))\n",
    "        self.map = M\n",
    "        \n",
    "    def starts_to_burn(self) :\n",
    "        for i in range(self.ncol) :\n",
    "            if self.map[0, i] == 3 :\n",
    "                self.map[0, i] = 2\n",
    "                \n",
    "    def burning_forest(self) :\n",
    "        M = self.map.copy()\n",
    "        for i in range(self.nrow) :\n",
    "            for j in range(self.ncol) :\n",
    "                if self.map[i, j] == 2 :\n",
    "                    M[i, j] = 1\n",
    "                    if self.map[i, j] != M[i, j] : \n",
    "                        if j != 0 and self.map[i, j - 1] == 3 :\n",
    "                            M[i, j - 1] = 2\n",
    "                        if (j < self.ncol - 1) and self.map[i, j + 1] == 3 :\n",
    "                            M[i, j + 1] = 2\n",
    "                        if (i < self.nrow - 1) and self.map[i + 1, j] == 3 :\n",
    "                            M[i + 1][j] = 2\n",
    "                        if (i < self.nrow - 1) and self.map[i + 1, j] == 3 :\n",
    "                            M[i + 1][j] = 2\n",
    "                        if i != 0 and self.map[i - 1, j] == 3 :\n",
    "                            M[i - 1, j] = 2\n",
    "        return M\n",
    "    \n",
    "    def check_forest(self, other) :\n",
    "        count = 0\n",
    "        for i in range(self.nrow) :\n",
    "            for j in range(self.ncol) :\n",
    "                if (self.map[i, j] == other[i, j]) :\n",
    "                    count += 1\n",
    "        if (count != self.nrow * self.ncol) :\n",
    "            return True\n",
    "        else :\n",
    "            return False\n",
    "        \n",
    "    def draw_forest(self, forest) :\n",
    "        plt.imshow(forest)\n",
    "        plt.show()\n",
    "    \n",
    "    def all_burn(self) :\n",
    "        \n",
    "        M = self.map.copy()\n",
    "        self.starts_to_burn()\n",
    "        \n",
    "        while (self.check_forest(M)) :\n",
    "            M = self.burning_forest()\n",
    "            self.map = M\n",
    "            self.draw_forest(self.map)\n",
    "            M = self.burning_forest()\n",
    "            #print(self.check_forest(M))"
   ]
  },
  {
   "cell_type": "markdown",
   "id": "1f28b952",
   "metadata": {},
   "source": [
    "2) Example of initialising instance ```forest``` with grid of size 111."
   ]
  },
  {
   "cell_type": "code",
   "execution_count": 3,
   "id": "91a710ef",
   "metadata": {},
   "outputs": [],
   "source": [
    "A = forest(111)"
   ]
  },
  {
   "cell_type": "markdown",
   "id": "1408460d",
   "metadata": {},
   "source": [
    "Remark : Since 111 is not a perfect square instance ```A``` only consists of grid with size 10x10."
   ]
  },
  {
   "cell_type": "markdown",
   "id": "e281bb54",
   "metadata": {},
   "source": [
    "3) Generate random mapping for instance ```A``` using method ```generate_forest```."
   ]
  },
  {
   "cell_type": "code",
   "execution_count": 4,
   "id": "7a9046b8",
   "metadata": {},
   "outputs": [],
   "source": [
    "A.generate_forest(0.5)"
   ]
  },
  {
   "cell_type": "markdown",
   "id": "cc6c4784",
   "metadata": {},
   "source": [
    "Remark : The information for the forest map is located in the attribute ```map``` of instance ```A```. "
   ]
  },
  {
   "cell_type": "code",
   "execution_count": 5,
   "id": "502917aa",
   "metadata": {},
   "outputs": [
    {
     "data": {
      "text/plain": [
       "array([[0, 0, 0, 3, 0, 3, 3, 0, 0, 3],\n",
       "       [3, 3, 0, 3, 0, 3, 0, 0, 0, 3],\n",
       "       [0, 0, 3, 0, 0, 0, 0, 3, 0, 0],\n",
       "       [0, 0, 3, 3, 0, 3, 0, 3, 0, 3],\n",
       "       [0, 0, 0, 3, 0, 3, 3, 0, 0, 3],\n",
       "       [3, 0, 0, 3, 0, 3, 3, 0, 0, 3],\n",
       "       [0, 0, 0, 0, 0, 3, 0, 3, 3, 3],\n",
       "       [0, 3, 3, 0, 0, 3, 0, 3, 0, 0],\n",
       "       [3, 3, 3, 3, 3, 0, 0, 0, 0, 3],\n",
       "       [3, 0, 0, 0, 0, 0, 3, 3, 0, 0]])"
      ]
     },
     "execution_count": 5,
     "metadata": {},
     "output_type": "execute_result"
    }
   ],
   "source": [
    "A.map"
   ]
  },
  {
   "cell_type": "markdown",
   "id": "3880f764",
   "metadata": {},
   "source": [
    "Remark : ```3``` represents unburned trees while ```0``` represents no tree."
   ]
  },
  {
   "cell_type": "markdown",
   "id": "1cd8e74d",
   "metadata": {},
   "source": [
    "4) Running entire process of burning using method ```all_burn``` that includes the visualisation of all stages. Method ```draw_forest``` is used to visualise the final stage of the forest after being burnt completely."
   ]
  },
  {
   "cell_type": "code",
   "execution_count": 6,
   "id": "ce624365",
   "metadata": {},
   "outputs": [
    {
     "data": {
      "image/png": "[encoded data removed]",
      "text/plain": [
       "<Figure size 432x288 with 1 Axes>"
      ]
     },
     "metadata": {
      "needs_background": "light"
     },
     "output_type": "display_data"
    },
    {
     "data": {
      "image/png": "[encoded data removed]",
      "text/plain": [
       "<Figure size 432x288 with 1 Axes>"
      ]
     },
     "metadata": {
      "needs_background": "light"
     },
     "output_type": "display_data"
    },
    {
     "data": {
      "image/png": "[encoded data removed]",
      "text/plain": [
       "<Figure size 432x288 with 1 Axes>"
      ]
     },
     "metadata": {
      "needs_background": "light"
     },
     "output_type": "display_data"
    },
    {
     "data": {
      "image/png": "[encoded data removed]",
      "text/plain": [
       "<Figure size 432x288 with 1 Axes>"
      ]
     },
     "metadata": {
      "needs_background": "light"
     },
     "output_type": "display_data"
    },
    {
     "data": {
      "image/png": "[encoded data removed]",
      "text/plain": [
       "<Figure size 432x288 with 1 Axes>"
      ]
     },
     "metadata": {
      "needs_background": "light"
     },
     "output_type": "display_data"
    },
    {
     "data": {
      "image/png": "[encoded data removed]",
      "text/plain": [
       "<Figure size 432x288 with 1 Axes>"
      ]
     },
     "metadata": {
      "needs_background": "light"
     },
     "output_type": "display_data"
    },
    {
     "data": {
      "image/png": "[encoded data removed]",
      "text/plain": [
       "<Figure size 432x288 with 1 Axes>"
      ]
     },
     "metadata": {
      "needs_background": "light"
     },
     "output_type": "display_data"
    },
    {
     "data": {
      "image/png": "[encoded data removed]",
      "text/plain": [
       "<Figure size 432x288 with 1 Axes>"
      ]
     },
     "metadata": {
      "needs_background": "light"
     },
     "output_type": "display_data"
    },
    {
     "data": {
      "image/png": "[encoded data removed]",
      "text/plain": [
       "<Figure size 432x288 with 1 Axes>"
      ]
     },
     "metadata": {
      "needs_background": "light"
     },
     "output_type": "display_data"
    },
    {
     "data": {
      "image/png": "[encoded data removed]",
      "text/plain": [
       "<Figure size 432x288 with 1 Axes>"
      ]
     },
     "metadata": {
      "needs_background": "light"
     },
     "output_type": "display_data"
    },
    {
     "data": {
      "image/png": "[encoded data removed]",
      "text/plain": [
       "<Figure size 432x288 with 1 Axes>"
      ]
     },
     "metadata": {
      "needs_background": "light"
     },
     "output_type": "display_data"
    },
    {
     "data": {
      "image/png": "[encoded data removed]",
      "text/plain": [
       "<Figure size 432x288 with 1 Axes>"
      ]
     },
     "metadata": {
      "needs_background": "light"
     },
     "output_type": "display_data"
    },
    {
     "data": {
      "image/png": "[encoded data removed]",
      "text/plain": [
       "<Figure size 432x288 with 1 Axes>"
      ]
     },
     "metadata": {
      "needs_background": "light"
     },
     "output_type": "display_data"
    },
    {
     "data": {
      "image/png": "[encoded data removed]",
      "text/plain": [
       "<Figure size 432x288 with 1 Axes>"
      ]
     },
     "metadata": {
      "needs_background": "light"
     },
     "output_type": "display_data"
    }
   ],
   "source": [
    "B = forest(111)\n",
    "B.generate_forest(0.6)\n",
    "\n",
    "B.all_burn()\n",
    "B.draw_forest(B.map)"
   ]
  },
  {
   "cell_type": "code",
   "execution_count": null,
   "id": "3cd20385",
   "metadata": {},
   "outputs": [],
   "source": []
  },
  {
   "cell_type": "markdown",
   "id": "b06333e7",
   "metadata": {},
   "source": [
    "### Part 2 : Forest Fire Animation"
   ]
  },
  {
   "cell_type": "markdown",
   "id": "64ff9553",
   "metadata": {},
   "source": [
    "1) Importing libraries for data animation."
   ]
  },
  {
   "cell_type": "code",
   "execution_count": 7,
   "id": "81648018",
   "metadata": {},
   "outputs": [],
   "source": [
    "%matplotlib qt\n",
    "import matplotlib.animation as animation\n",
    "from matplotlib.animation import FuncAnimation\n",
    "from matplotlib.animation import ArtistAnimation"
   ]
  },
  {
   "cell_type": "markdown",
   "id": "559c7903",
   "metadata": {},
   "source": [
    "2) Introduce some variables (may vary) to set conditions on the forest fire algorithm."
   ]
  },
  {
   "cell_type": "code",
   "execution_count": 8,
   "id": "22e9476d",
   "metadata": {},
   "outputs": [],
   "source": [
    "n = 10000\n",
    "p = 0.7\n",
    "F = forest(n) \n",
    "F.generate_forest(p)"
   ]
  },
  {
   "cell_type": "markdown",
   "id": "ef665851",
   "metadata": {},
   "source": [
    "Remark : In this case we create instance of class ```forest``` called ```F``` of size 100x100 with 60 percent spreadness of trees. "
   ]
  },
  {
   "cell_type": "markdown",
   "id": "2c878f96",
   "metadata": {},
   "source": [
    "3) We copy the matrix that represent the mapping of the forest from instance ```F``` to help with updating the state of the forest after each burning stages."
   ]
  },
  {
   "cell_type": "code",
   "execution_count": 9,
   "id": "411b06e3",
   "metadata": {},
   "outputs": [],
   "source": [
    "f = F.map.copy()"
   ]
  },
  {
   "cell_type": "markdown",
   "id": "5e500ab8",
   "metadata": {},
   "source": [
    "4) Create function ```animate``` to set rule in updating the state of the forest. Then, we use ```FuncAnimation``` to run the animation for the burning process of forest ```F```."
   ]
  },
  {
   "cell_type": "code",
   "execution_count": 10,
   "id": "4e29ae4c",
   "metadata": {},
   "outputs": [],
   "source": [
    "fig = plt.figure() \n",
    "im = plt.imshow(F.map, animated=True)\n",
    "\n",
    "stop_animation = False\n",
    "\n",
    "def animate(*args) :    \n",
    "    global F, f\n",
    "    F.starts_to_burn()\n",
    "\n",
    "    if ((F.check_forest(f))) :\n",
    "        \n",
    "        f = F.burning_forest()\n",
    "        F.map = f\n",
    "        im.set_array(f)\n",
    "        \n",
    "        f = F.burning_forest()\n",
    "        #print(F.check_forest(f))\n",
    "        return im,\n",
    "    \n",
    "    else:\n",
    "        # Stop the animation\n",
    "        stop_animation = True\n",
    "        anim.event_source.stop()\n",
    "\n",
    "\n",
    "anim = FuncAnimation(fig, animate, blit=False, repeat=True, repeat_delay=1000)\n",
    "\n",
    "plt.show()"
   ]
  },
  {
   "cell_type": "markdown",
   "id": "8966c40a",
   "metadata": {},
   "source": [
    "4) Make sure that the forest ```F``` has completely burnt."
   ]
  },
  {
   "cell_type": "code",
   "execution_count": 11,
   "id": "53763ec8",
   "metadata": {},
   "outputs": [
    {
     "data": {
      "text/plain": [
       "False"
      ]
     },
     "execution_count": 11,
     "metadata": {},
     "output_type": "execute_result"
    }
   ],
   "source": [
    "F.check_forest(f)"
   ]
  },
  {
   "cell_type": "markdown",
   "id": "c9bf652d",
   "metadata": {},
   "source": [
    "5) Draw the forest ```F``` to show the final state of the forest."
   ]
  },
  {
   "cell_type": "code",
   "execution_count": 12,
   "id": "ea511f04",
   "metadata": {},
   "outputs": [],
   "source": [
    "F.draw_forest(f)"
   ]
  },
  {
   "cell_type": "code",
   "execution_count": null,
   "id": "1b10bdb4",
   "metadata": {},
   "outputs": [],
   "source": []
  }
 ],
 "metadata": {
  "kernelspec": {
   "display_name": "Python 3",
   "language": "python",
   "name": "python3"
  },
  "language_info": {
   "codemirror_mode": {
    "name": "ipython",
    "version": 3
   },
   "file_extension": ".py",
   "mimetype": "text/x-python",
   "name": "python",
   "nbconvert_exporter": "python",
   "pygments_lexer": "ipython3",
   "version": "3.8.8"
  }
 },
 "nbformat": 4,
 "nbformat_minor": 5
}
